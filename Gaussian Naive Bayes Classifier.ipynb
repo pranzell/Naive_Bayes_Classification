{
 "cells": [
  {
   "cell_type": "markdown",
   "metadata": {},
   "source": [
    "# Gaussian Naive Bayes Classifier"
   ]
  },
  {
   "cell_type": "markdown",
   "metadata": {},
   "source": [
    "![GNB Image](Data/Res/4.5.PNG)"
   ]
  },
  {
   "cell_type": "markdown",
   "metadata": {},
   "source": [
    "## AIM"
   ]
  },
  {
   "cell_type": "raw",
   "metadata": {},
   "source": [
    "Predict the Onset of Diabetes (1) or not (0) for a new set of feature values"
   ]
  },
  {
   "cell_type": "markdown",
   "metadata": {},
   "source": [
    "----"
   ]
  },
  {
   "cell_type": "markdown",
   "metadata": {},
   "source": [
    "## Data"
   ]
  },
  {
   "cell_type": "markdown",
   "metadata": {},
   "source": [
    "- This problem is comprised of 768 observations of medical details for Pima indians patents. \n",
    "\n",
    "- All patients are women aged 21 or older. All attributes are numeric, and their units vary from attribute to attribute.\n",
    "\n",
    "- Each record has a class value that indicates whether the patient suffered an onset of diabetes within 5 years of when the measurements were taken Yes(1) or not(0).\n",
    "\n",
    "- A good prediction accuracy is 70%-76%."
   ]
  },
  {
   "cell_type": "markdown",
   "metadata": {},
   "source": [
    "## Imports"
   ]
  },
  {
   "cell_type": "code",
   "execution_count": 1,
   "metadata": {
    "collapsed": true
   },
   "outputs": [],
   "source": [
    "import math\n",
    "import random\n",
    "import numpy as np\n",
    "import pandas as pd\n",
    "\n",
    "import sklearn\n",
    "from sklearn.utils import shuffle"
   ]
  },
  {
   "cell_type": "markdown",
   "metadata": {},
   "source": [
    "## Dataset"
   ]
  },
  {
   "cell_type": "code",
   "execution_count": 30,
   "metadata": {},
   "outputs": [
    {
     "data": {
      "text/html": [
       "<div>\n",
       "<style>\n",
       "    .dataframe thead tr:only-child th {\n",
       "        text-align: right;\n",
       "    }\n",
       "\n",
       "    .dataframe thead th {\n",
       "        text-align: left;\n",
       "    }\n",
       "\n",
       "    .dataframe tbody tr th {\n",
       "        vertical-align: top;\n",
       "    }\n",
       "</style>\n",
       "<table border=\"1\" class=\"dataframe\">\n",
       "  <thead>\n",
       "    <tr style=\"text-align: right;\">\n",
       "      <th></th>\n",
       "      <th>Level</th>\n",
       "      <th>Iron_content</th>\n",
       "      <th>Calcium_content</th>\n",
       "      <th>Vitamins_deficiency</th>\n",
       "      <th>Beta_nagative</th>\n",
       "      <th>Beta_postive</th>\n",
       "      <th>Blood_workout</th>\n",
       "      <th>Age</th>\n",
       "      <th>Class</th>\n",
       "    </tr>\n",
       "  </thead>\n",
       "  <tbody>\n",
       "    <tr>\n",
       "      <th>0</th>\n",
       "      <td>6</td>\n",
       "      <td>148</td>\n",
       "      <td>72</td>\n",
       "      <td>35</td>\n",
       "      <td>0</td>\n",
       "      <td>33.6</td>\n",
       "      <td>0.627</td>\n",
       "      <td>50</td>\n",
       "      <td>1</td>\n",
       "    </tr>\n",
       "    <tr>\n",
       "      <th>1</th>\n",
       "      <td>1</td>\n",
       "      <td>85</td>\n",
       "      <td>66</td>\n",
       "      <td>29</td>\n",
       "      <td>0</td>\n",
       "      <td>26.6</td>\n",
       "      <td>0.351</td>\n",
       "      <td>31</td>\n",
       "      <td>0</td>\n",
       "    </tr>\n",
       "    <tr>\n",
       "      <th>2</th>\n",
       "      <td>8</td>\n",
       "      <td>183</td>\n",
       "      <td>64</td>\n",
       "      <td>0</td>\n",
       "      <td>0</td>\n",
       "      <td>23.3</td>\n",
       "      <td>0.672</td>\n",
       "      <td>32</td>\n",
       "      <td>1</td>\n",
       "    </tr>\n",
       "    <tr>\n",
       "      <th>3</th>\n",
       "      <td>1</td>\n",
       "      <td>89</td>\n",
       "      <td>66</td>\n",
       "      <td>23</td>\n",
       "      <td>94</td>\n",
       "      <td>28.1</td>\n",
       "      <td>0.167</td>\n",
       "      <td>21</td>\n",
       "      <td>0</td>\n",
       "    </tr>\n",
       "    <tr>\n",
       "      <th>4</th>\n",
       "      <td>0</td>\n",
       "      <td>137</td>\n",
       "      <td>40</td>\n",
       "      <td>35</td>\n",
       "      <td>168</td>\n",
       "      <td>43.1</td>\n",
       "      <td>2.288</td>\n",
       "      <td>33</td>\n",
       "      <td>1</td>\n",
       "    </tr>\n",
       "  </tbody>\n",
       "</table>\n",
       "</div>"
      ],
      "text/plain": [
       "   Level  Iron_content  Calcium_content  Vitamins_deficiency  Beta_nagative  \\\n",
       "0      6           148               72                   35              0   \n",
       "1      1            85               66                   29              0   \n",
       "2      8           183               64                    0              0   \n",
       "3      1            89               66                   23             94   \n",
       "4      0           137               40                   35            168   \n",
       "\n",
       "   Beta_postive  Blood_workout  Age  Class  \n",
       "0          33.6          0.627   50      1  \n",
       "1          26.6          0.351   31      0  \n",
       "2          23.3          0.672   32      1  \n",
       "3          28.1          0.167   21      0  \n",
       "4          43.1          2.288   33      1  "
      ]
     },
     "execution_count": 30,
     "metadata": {},
     "output_type": "execute_result"
    }
   ],
   "source": [
    "df = pd.read_csv('Data/data_5_2_pima-indians-diabetes.data.csv')\n",
    "df.head()"
   ]
  },
  {
   "cell_type": "markdown",
   "metadata": {},
   "source": [
    "## Standardisation"
   ]
  },
  {
   "cell_type": "markdown",
   "metadata": {},
   "source": [
    "![Stadarization Image](Data/Res/12.png)"
   ]
  },
  {
   "cell_type": "code",
   "execution_count": 37,
   "metadata": {},
   "outputs": [
    {
     "data": {
      "text/plain": [
       "['Level',\n",
       " 'Iron_content',\n",
       " 'Calcium_content',\n",
       " 'Vitamins_deficiency',\n",
       " 'Beta_nagative',\n",
       " 'Beta_postive',\n",
       " 'Blood_workout',\n",
       " 'Age']"
      ]
     },
     "execution_count": 37,
     "metadata": {},
     "output_type": "execute_result"
    }
   ],
   "source": [
    "Features = list(df.columns)\n",
    "Features.remove('Class')\n",
    "Features"
   ]
  },
  {
   "cell_type": "code",
   "execution_count": 32,
   "metadata": {
    "collapsed": true
   },
   "outputs": [],
   "source": [
    "def standardisation(df):\n",
    "    for feature in Features:\n",
    "        # x = (x - Mean)/Std\n",
    "        df[feature] = (df[feature] - df[feature].mean())/df[feature].std()\n",
    "    return df"
   ]
  },
  {
   "cell_type": "code",
   "execution_count": 33,
   "metadata": {},
   "outputs": [
    {
     "data": {
      "text/html": [
       "<div>\n",
       "<style>\n",
       "    .dataframe thead tr:only-child th {\n",
       "        text-align: right;\n",
       "    }\n",
       "\n",
       "    .dataframe thead th {\n",
       "        text-align: left;\n",
       "    }\n",
       "\n",
       "    .dataframe tbody tr th {\n",
       "        vertical-align: top;\n",
       "    }\n",
       "</style>\n",
       "<table border=\"1\" class=\"dataframe\">\n",
       "  <thead>\n",
       "    <tr style=\"text-align: right;\">\n",
       "      <th></th>\n",
       "      <th>Level</th>\n",
       "      <th>Iron_content</th>\n",
       "      <th>Calcium_content</th>\n",
       "      <th>Vitamins_deficiency</th>\n",
       "      <th>Beta_nagative</th>\n",
       "      <th>Beta_postive</th>\n",
       "      <th>Blood_workout</th>\n",
       "      <th>Age</th>\n",
       "      <th>Class</th>\n",
       "    </tr>\n",
       "  </thead>\n",
       "  <tbody>\n",
       "    <tr>\n",
       "      <th>0</th>\n",
       "      <td>0.639530</td>\n",
       "      <td>0.847771</td>\n",
       "      <td>0.149543</td>\n",
       "      <td>0.906679</td>\n",
       "      <td>-0.692439</td>\n",
       "      <td>0.203880</td>\n",
       "      <td>0.468187</td>\n",
       "      <td>1.425067</td>\n",
       "      <td>1</td>\n",
       "    </tr>\n",
       "    <tr>\n",
       "      <th>1</th>\n",
       "      <td>-0.844335</td>\n",
       "      <td>-1.122665</td>\n",
       "      <td>-0.160441</td>\n",
       "      <td>0.530556</td>\n",
       "      <td>-0.692439</td>\n",
       "      <td>-0.683976</td>\n",
       "      <td>-0.364823</td>\n",
       "      <td>-0.190548</td>\n",
       "      <td>0</td>\n",
       "    </tr>\n",
       "    <tr>\n",
       "      <th>2</th>\n",
       "      <td>1.233077</td>\n",
       "      <td>1.942458</td>\n",
       "      <td>-0.263769</td>\n",
       "      <td>-1.287373</td>\n",
       "      <td>-0.692439</td>\n",
       "      <td>-1.102537</td>\n",
       "      <td>0.604004</td>\n",
       "      <td>-0.105515</td>\n",
       "      <td>1</td>\n",
       "    </tr>\n",
       "    <tr>\n",
       "      <th>3</th>\n",
       "      <td>-0.844335</td>\n",
       "      <td>-0.997558</td>\n",
       "      <td>-0.160441</td>\n",
       "      <td>0.154433</td>\n",
       "      <td>0.123221</td>\n",
       "      <td>-0.493721</td>\n",
       "      <td>-0.920163</td>\n",
       "      <td>-1.040871</td>\n",
       "      <td>0</td>\n",
       "    </tr>\n",
       "    <tr>\n",
       "      <th>4</th>\n",
       "      <td>-1.141108</td>\n",
       "      <td>0.503727</td>\n",
       "      <td>-1.503707</td>\n",
       "      <td>0.906679</td>\n",
       "      <td>0.765337</td>\n",
       "      <td>1.408828</td>\n",
       "      <td>5.481337</td>\n",
       "      <td>-0.020483</td>\n",
       "      <td>1</td>\n",
       "    </tr>\n",
       "  </tbody>\n",
       "</table>\n",
       "</div>"
      ],
      "text/plain": [
       "      Level  Iron_content  Calcium_content  Vitamins_deficiency  \\\n",
       "0  0.639530      0.847771         0.149543             0.906679   \n",
       "1 -0.844335     -1.122665        -0.160441             0.530556   \n",
       "2  1.233077      1.942458        -0.263769            -1.287373   \n",
       "3 -0.844335     -0.997558        -0.160441             0.154433   \n",
       "4 -1.141108      0.503727        -1.503707             0.906679   \n",
       "\n",
       "   Beta_nagative  Beta_postive  Blood_workout       Age  Class  \n",
       "0      -0.692439      0.203880       0.468187  1.425067      1  \n",
       "1      -0.692439     -0.683976      -0.364823 -0.190548      0  \n",
       "2      -0.692439     -1.102537       0.604004 -0.105515      1  \n",
       "3       0.123221     -0.493721      -0.920163 -1.040871      0  \n",
       "4       0.765337      1.408828       5.481337 -0.020483      1  "
      ]
     },
     "execution_count": 33,
     "metadata": {},
     "output_type": "execute_result"
    }
   ],
   "source": [
    "df = standardisation(df)\n",
    "df.head()"
   ]
  },
  {
   "cell_type": "markdown",
   "metadata": {},
   "source": [
    "## Train-Test Split"
   ]
  },
  {
   "cell_type": "code",
   "execution_count": 34,
   "metadata": {
    "scrolled": false
   },
   "outputs": [
    {
     "name": "stdout",
     "output_type": "stream",
     "text": [
      "614 + 154  =  768\n"
     ]
    }
   ],
   "source": [
    "df = shuffle(df).reset_index(drop=True)\n",
    "\n",
    "train_size = 0.80\n",
    "\n",
    "train_data = df[0 : int(train_size*len(df))]\n",
    "test_data = df[int(train_size*len(df)) : ]\n",
    "\n",
    "print len(train_data), \"+\", len(test_data), \" = \", len(train_data) + len(test_data)"
   ]
  },
  {
   "cell_type": "markdown",
   "metadata": {},
   "source": [
    "## Analysis"
   ]
  },
  {
   "cell_type": "markdown",
   "metadata": {},
   "source": [
    "AIM: P(Class|X1,X2,X3,X4,X5,X6,X7,X8) = ?"
   ]
  },
  {
   "cell_type": "markdown",
   "metadata": {},
   "source": [
    "Solution: \n",
    "\n",
    "    - We find out P(Class=1) and P(Class=0)\n",
    "    - We find out P(Class=1|X1,X2,X3,X4,X5,X6,X7,X8)\n",
    "    - We find out P(Class=0|X1,X2,X3,X4,X5,X6,X7,X8)\n",
    "    \n",
    "    And compare which P is greater, that will be the predicted class!"
   ]
  },
  {
   "cell_type": "markdown",
   "metadata": {},
   "source": [
    "- Equations:\n",
    "    \n",
    "      1. P(C=1|X1..X8) = P(X_i|C=1) x P(C=1) / Sum\n",
    "                       = P(X1|C=1) x P(X2|C=1)...P(X8|C=1) x P(C=1) / Sum{ P(X_i|C=1)xP(C=1) + P(X_i|C=0)xP(C=0) }\n",
    "                       ~ P(X1|C=1) x P(X2|C=1)...P(X8|C=1) x P(C=1) / (Sum)\n",
    "                     \n",
    "      2. P(C=0|X1..X8) = P(X_i|C=0) x P(C=0) / Sum\n",
    "                       = P(X1|C=0) x P(X2|C=0)...P(X8|C=0) x P(C=0) / Sum{ P(X_i|C=1)xP(C=1) + P(X_i|C=0)xP(C=0) }\n",
    "                       ~ P(X1|C=0) x P(X2|C=0)...P(X8|C=0) x P(C=0) / (Sum)\n",
    "                     \n",
    "      3. P(X = Xi|C = Ck) = n(X = Xi where class = Ck)/ n(Total docs where class = Ck)\n",
    "      \n",
    "      4. Can ignore the (Sum)\n",
    "    \n",
    "      5. Find argmax{ P(C=1|X1..X8), P(C=0|X1..X8) }"
   ]
  },
  {
   "cell_type": "markdown",
   "metadata": {},
   "source": [
    "#### Forming Testing Sample which will be our input feature vector"
   ]
  },
  {
   "cell_type": "code",
   "execution_count": 38,
   "metadata": {
    "collapsed": true,
    "scrolled": false
   },
   "outputs": [],
   "source": [
    "X_test = test_data[Features]\n",
    "Y_test = test_data['Class']"
   ]
  },
  {
   "cell_type": "markdown",
   "metadata": {},
   "source": [
    "## Calculations"
   ]
  },
  {
   "cell_type": "markdown",
   "metadata": {},
   "source": [
    "#### Probability of a Class"
   ]
  },
  {
   "cell_type": "code",
   "execution_count": 36,
   "metadata": {
    "collapsed": true
   },
   "outputs": [],
   "source": [
    "def prob_Class(Class):\n",
    "    \n",
    "    # Finding, P(Class=1) = n(Class=1)/Total n;  P(Class=0) = n(Class=0)/Total n\n",
    "    P_Class = len(train_data[train_data.Class == Class])*1.0/len(train_data)\n",
    "                  \n",
    "    return P_Class"
   ]
  },
  {
   "cell_type": "markdown",
   "metadata": {},
   "source": [
    "#### Probability of a feature given class:  P(X|Class=1) and P(X|Class=0)"
   ]
  },
  {
   "cell_type": "code",
   "execution_count": 35,
   "metadata": {
    "collapsed": true
   },
   "outputs": [],
   "source": [
    "def prob_Feature_given_class(X, X_i, Class):\n",
    "    \n",
    "    # Finding, mean and std for P(X=value|Class=1)\n",
    "    mean = train_data[train_data.Class == Class][X].mean()\n",
    "    stdev = np.std(train_data[train_data.Class == Class][X])\n",
    "    \n",
    "    # Gaussian Distribution Equation for P(x):-\n",
    "    P_X_i_Class = math.pow(np.e, -1*(X_i - mean)**2/(2*stdev**2)) / (stdev*np.sqrt(2*np.pi))\n",
    "    \n",
    "    return P_X_i_Class"
   ]
  },
  {
   "cell_type": "markdown",
   "metadata": {},
   "source": [
    "## Prediction"
   ]
  },
  {
   "cell_type": "markdown",
   "metadata": {},
   "source": [
    "#### Calcualte P(X = x_ij | Class = 1 or 0) to find Predicted Classes"
   ]
  },
  {
   "cell_type": "code",
   "execution_count": 39,
   "metadata": {
    "collapsed": true
   },
   "outputs": [],
   "source": [
    "Y_test_hat = []\n",
    "\n",
    "# Picking entire ROW one at a time\n",
    "for feature_vector in X_test.values:\n",
    "    \n",
    "    # Intialising big to 0, and randomly intialising Predicted_class to 1 or 0, in case Prob of both class comes to be 0\n",
    "    big = 0\n",
    "    big_class = random.choice(df.Class.unique())\n",
    "    \n",
    "    # Iterating for each class, P(X|Class=0) and P(X|Class=1)\n",
    "    for class_ in df.Class.unique():\n",
    "        \n",
    "        likelihood_class_X, i = 1, 0\n",
    "        \n",
    "        # Calcuating P(X_i|Class):- Iterating over featur vector (ROW) for each X; X1, X2... X7\n",
    "        for X in Features:  \n",
    "            # print \"P({}={}|Class={})\".format(X, feature_vector[i], class_)\n",
    "            likelihood_class_X *=  prob_Feature_given_class(X, feature_vector[i], class_)\n",
    "            i+=1\n",
    "        \n",
    "        # Calculating P(X|Class) = Product[P(X_i|Class)] x P(Class)\n",
    "        likelihood_class_X = likelihood_class_X * prob_Class(class_)\n",
    "        \n",
    "        # Storing the class with bigger Prob:- P(X|Class=1) > or < P(X|Class=0)\n",
    "        if likelihood_class_X > big:\n",
    "            big, big_class = likelihood_class_X, class_\n",
    "\n",
    "    # Storing Predicted Classes\n",
    "    Y_test_hat.append(big_class)"
   ]
  },
  {
   "cell_type": "code",
   "execution_count": 40,
   "metadata": {
    "scrolled": true
   },
   "outputs": [
    {
     "data": {
      "text/plain": [
       "[0, 0, 0, 0, 0]"
      ]
     },
     "execution_count": 40,
     "metadata": {},
     "output_type": "execute_result"
    }
   ],
   "source": [
    "# Sample Output\n",
    "Y_test_hat[:5]"
   ]
  },
  {
   "cell_type": "markdown",
   "metadata": {},
   "source": [
    "## Accuracy (When y_hat == y)"
   ]
  },
  {
   "cell_type": "code",
   "execution_count": 41,
   "metadata": {
    "collapsed": true
   },
   "outputs": [],
   "source": [
    "def calculate_accuracy(y_test, y_test_hat):\n",
    "    score = []\n",
    "    for index in range(len(test_data)):\n",
    "        if list(Y_test)[index] == y_test_hat[index]:\n",
    "            score.append(100)\n",
    "        else:\n",
    "            score.append(0)\n",
    "    return score"
   ]
  },
  {
   "cell_type": "markdown",
   "metadata": {},
   "source": [
    "#### Forming Accuracy Matrix"
   ]
  },
  {
   "cell_type": "code",
   "execution_count": 42,
   "metadata": {},
   "outputs": [
    {
     "data": {
      "text/html": [
       "<div>\n",
       "<style>\n",
       "    .dataframe thead tr:only-child th {\n",
       "        text-align: right;\n",
       "    }\n",
       "\n",
       "    .dataframe thead th {\n",
       "        text-align: left;\n",
       "    }\n",
       "\n",
       "    .dataframe tbody tr th {\n",
       "        vertical-align: top;\n",
       "    }\n",
       "</style>\n",
       "<table border=\"1\" class=\"dataframe\">\n",
       "  <thead>\n",
       "    <tr style=\"text-align: right;\">\n",
       "      <th></th>\n",
       "      <th>Actual Class</th>\n",
       "      <th>Predicted Class</th>\n",
       "      <th>Score</th>\n",
       "    </tr>\n",
       "  </thead>\n",
       "  <tbody>\n",
       "    <tr>\n",
       "      <th>614</th>\n",
       "      <td>0</td>\n",
       "      <td>0</td>\n",
       "      <td>100</td>\n",
       "    </tr>\n",
       "    <tr>\n",
       "      <th>615</th>\n",
       "      <td>0</td>\n",
       "      <td>0</td>\n",
       "      <td>100</td>\n",
       "    </tr>\n",
       "    <tr>\n",
       "      <th>616</th>\n",
       "      <td>0</td>\n",
       "      <td>0</td>\n",
       "      <td>100</td>\n",
       "    </tr>\n",
       "    <tr>\n",
       "      <th>617</th>\n",
       "      <td>0</td>\n",
       "      <td>0</td>\n",
       "      <td>100</td>\n",
       "    </tr>\n",
       "    <tr>\n",
       "      <th>618</th>\n",
       "      <td>0</td>\n",
       "      <td>0</td>\n",
       "      <td>100</td>\n",
       "    </tr>\n",
       "  </tbody>\n",
       "</table>\n",
       "</div>"
      ],
      "text/plain": [
       "     Actual Class  Predicted Class  Score\n",
       "614             0                0    100\n",
       "615             0                0    100\n",
       "616             0                0    100\n",
       "617             0                0    100\n",
       "618             0                0    100"
      ]
     },
     "execution_count": 42,
     "metadata": {},
     "output_type": "execute_result"
    }
   ],
   "source": [
    "accurracy = pd.DataFrame({\"Actual Class\": Y_test,\n",
    "                          \"Predicted Class\": Y_test_hat,\n",
    "                          \"Score\": calculate_accuracy(Y_test, Y_test_hat)})\n",
    "accurracy.head()"
   ]
  },
  {
   "cell_type": "code",
   "execution_count": 43,
   "metadata": {
    "scrolled": true
   },
   "outputs": [
    {
     "name": "stdout",
     "output_type": "stream",
     "text": [
      "Accuracy Score = 79.2207792208%\n"
     ]
    }
   ],
   "source": [
    "print \"Accuracy Score = {}%\".format(accurracy.Score.mean())"
   ]
  },
  {
   "cell_type": "markdown",
   "metadata": {},
   "source": [
    "----"
   ]
  },
  {
   "cell_type": "markdown",
   "metadata": {},
   "source": [
    "# Using sklearn in-built libraries..."
   ]
  },
  {
   "cell_type": "markdown",
   "metadata": {},
   "source": [
    "## Imports"
   ]
  },
  {
   "cell_type": "code",
   "execution_count": 502,
   "metadata": {
    "collapsed": true
   },
   "outputs": [],
   "source": [
    "import sklearn\n",
    "from sklearn.utils import shuffle\n",
    "\n",
    "from sklearn import model_selection\n",
    "from sklearn.model_selection import train_test_split\n",
    "from sklearn.metrics import accuracy_score, classification_report\n",
    "\n",
    "from sklearn.naive_bayes import GaussianNB"
   ]
  },
  {
   "cell_type": "markdown",
   "metadata": {},
   "source": [
    "## Dataset"
   ]
  },
  {
   "cell_type": "code",
   "execution_count": 503,
   "metadata": {
    "scrolled": true
   },
   "outputs": [
    {
     "data": {
      "text/html": [
       "<div>\n",
       "<style>\n",
       "    .dataframe thead tr:only-child th {\n",
       "        text-align: right;\n",
       "    }\n",
       "\n",
       "    .dataframe thead th {\n",
       "        text-align: left;\n",
       "    }\n",
       "\n",
       "    .dataframe tbody tr th {\n",
       "        vertical-align: top;\n",
       "    }\n",
       "</style>\n",
       "<table border=\"1\" class=\"dataframe\">\n",
       "  <thead>\n",
       "    <tr style=\"text-align: right;\">\n",
       "      <th></th>\n",
       "      <th>Level</th>\n",
       "      <th>Iron_content</th>\n",
       "      <th>Calcium_content</th>\n",
       "      <th>Vitamins_deficiency</th>\n",
       "      <th>Beta_nagative</th>\n",
       "      <th>Beta_postive</th>\n",
       "      <th>Blood_workout</th>\n",
       "      <th>Age</th>\n",
       "      <th>Class</th>\n",
       "    </tr>\n",
       "  </thead>\n",
       "  <tbody>\n",
       "    <tr>\n",
       "      <th>0</th>\n",
       "      <td>5</td>\n",
       "      <td>116</td>\n",
       "      <td>74</td>\n",
       "      <td>0</td>\n",
       "      <td>0</td>\n",
       "      <td>25.6</td>\n",
       "      <td>0.201</td>\n",
       "      <td>30</td>\n",
       "      <td>0</td>\n",
       "    </tr>\n",
       "    <tr>\n",
       "      <th>1</th>\n",
       "      <td>11</td>\n",
       "      <td>103</td>\n",
       "      <td>68</td>\n",
       "      <td>40</td>\n",
       "      <td>0</td>\n",
       "      <td>46.2</td>\n",
       "      <td>0.126</td>\n",
       "      <td>42</td>\n",
       "      <td>0</td>\n",
       "    </tr>\n",
       "    <tr>\n",
       "      <th>2</th>\n",
       "      <td>1</td>\n",
       "      <td>140</td>\n",
       "      <td>74</td>\n",
       "      <td>26</td>\n",
       "      <td>180</td>\n",
       "      <td>24.1</td>\n",
       "      <td>0.828</td>\n",
       "      <td>23</td>\n",
       "      <td>0</td>\n",
       "    </tr>\n",
       "    <tr>\n",
       "      <th>3</th>\n",
       "      <td>1</td>\n",
       "      <td>163</td>\n",
       "      <td>72</td>\n",
       "      <td>0</td>\n",
       "      <td>0</td>\n",
       "      <td>39.0</td>\n",
       "      <td>1.222</td>\n",
       "      <td>33</td>\n",
       "      <td>1</td>\n",
       "    </tr>\n",
       "    <tr>\n",
       "      <th>4</th>\n",
       "      <td>3</td>\n",
       "      <td>130</td>\n",
       "      <td>78</td>\n",
       "      <td>23</td>\n",
       "      <td>79</td>\n",
       "      <td>28.4</td>\n",
       "      <td>0.323</td>\n",
       "      <td>34</td>\n",
       "      <td>1</td>\n",
       "    </tr>\n",
       "  </tbody>\n",
       "</table>\n",
       "</div>"
      ],
      "text/plain": [
       "   Level  Iron_content  Calcium_content  Vitamins_deficiency  Beta_nagative  \\\n",
       "0      5           116               74                    0              0   \n",
       "1     11           103               68                   40              0   \n",
       "2      1           140               74                   26            180   \n",
       "3      1           163               72                    0              0   \n",
       "4      3           130               78                   23             79   \n",
       "\n",
       "   Beta_postive  Blood_workout  Age  Class  \n",
       "0          25.6          0.201   30      0  \n",
       "1          46.2          0.126   42      0  \n",
       "2          24.1          0.828   23      0  \n",
       "3          39.0          1.222   33      1  \n",
       "4          28.4          0.323   34      1  "
      ]
     },
     "execution_count": 503,
     "metadata": {},
     "output_type": "execute_result"
    }
   ],
   "source": [
    "df.head()"
   ]
  },
  {
   "cell_type": "code",
   "execution_count": 504,
   "metadata": {
    "collapsed": true
   },
   "outputs": [],
   "source": [
    "df = shuffle(df).reset_index(drop=True)"
   ]
  },
  {
   "cell_type": "markdown",
   "metadata": {},
   "source": [
    "#### X, Y"
   ]
  },
  {
   "cell_type": "code",
   "execution_count": 505,
   "metadata": {
    "collapsed": true
   },
   "outputs": [],
   "source": [
    "X = df[Features]\n",
    "Y = df['Class']"
   ]
  },
  {
   "cell_type": "markdown",
   "metadata": {},
   "source": [
    "#### OPTIONAL: Standardisation (Only for X)"
   ]
  },
  {
   "cell_type": "code",
   "execution_count": 506,
   "metadata": {
    "collapsed": true
   },
   "outputs": [],
   "source": [
    "# def standardisation(X):\n",
    "\n",
    "#     X_std = X.copy()\n",
    "#     for feature in X.columns:\n",
    "#         # x = (x - Mean)/Std\n",
    "#         X_std[feature] = (X[feature] - X[feature].mean())/X[feature].std()\n",
    "#     return X_std\n",
    "\n",
    "# X = standardisation(X)"
   ]
  },
  {
   "cell_type": "markdown",
   "metadata": {},
   "source": [
    "#### Train Test Split"
   ]
  },
  {
   "cell_type": "code",
   "execution_count": 507,
   "metadata": {},
   "outputs": [
    {
     "name": "stdout",
     "output_type": "stream",
     "text": [
      "614 154\n"
     ]
    }
   ],
   "source": [
    "X_train, X_test, Y_train, Y_test = train_test_split(X, Y, train_size=0.80)\n",
    "\n",
    "print len(X_train), len(X_test)"
   ]
  },
  {
   "cell_type": "code",
   "execution_count": 508,
   "metadata": {},
   "outputs": [
    {
     "data": {
      "text/html": [
       "<div>\n",
       "<style>\n",
       "    .dataframe thead tr:only-child th {\n",
       "        text-align: right;\n",
       "    }\n",
       "\n",
       "    .dataframe thead th {\n",
       "        text-align: left;\n",
       "    }\n",
       "\n",
       "    .dataframe tbody tr th {\n",
       "        vertical-align: top;\n",
       "    }\n",
       "</style>\n",
       "<table border=\"1\" class=\"dataframe\">\n",
       "  <thead>\n",
       "    <tr style=\"text-align: right;\">\n",
       "      <th></th>\n",
       "      <th>Level</th>\n",
       "      <th>Iron_content</th>\n",
       "      <th>Calcium_content</th>\n",
       "      <th>Vitamins_deficiency</th>\n",
       "      <th>Beta_nagative</th>\n",
       "      <th>Beta_postive</th>\n",
       "      <th>Blood_workout</th>\n",
       "      <th>Age</th>\n",
       "    </tr>\n",
       "  </thead>\n",
       "  <tbody>\n",
       "    <tr>\n",
       "      <th>454</th>\n",
       "      <td>1</td>\n",
       "      <td>189</td>\n",
       "      <td>60</td>\n",
       "      <td>23</td>\n",
       "      <td>846</td>\n",
       "      <td>30.1</td>\n",
       "      <td>0.398</td>\n",
       "      <td>59</td>\n",
       "    </tr>\n",
       "    <tr>\n",
       "      <th>26</th>\n",
       "      <td>1</td>\n",
       "      <td>116</td>\n",
       "      <td>70</td>\n",
       "      <td>28</td>\n",
       "      <td>0</td>\n",
       "      <td>27.4</td>\n",
       "      <td>0.204</td>\n",
       "      <td>21</td>\n",
       "    </tr>\n",
       "  </tbody>\n",
       "</table>\n",
       "</div>"
      ],
      "text/plain": [
       "     Level  Iron_content  Calcium_content  Vitamins_deficiency  Beta_nagative  \\\n",
       "454      1           189               60                   23            846   \n",
       "26       1           116               70                   28              0   \n",
       "\n",
       "     Beta_postive  Blood_workout  Age  \n",
       "454          30.1          0.398   59  \n",
       "26           27.4          0.204   21  "
      ]
     },
     "execution_count": 508,
     "metadata": {},
     "output_type": "execute_result"
    }
   ],
   "source": [
    "X_train.head(2)"
   ]
  },
  {
   "cell_type": "code",
   "execution_count": 509,
   "metadata": {},
   "outputs": [
    {
     "data": {
      "text/plain": [
       "454    1\n",
       "26     0\n",
       "Name: Class, dtype: int64"
      ]
     },
     "execution_count": 509,
     "metadata": {},
     "output_type": "execute_result"
    }
   ],
   "source": [
    "Y_train[:2]"
   ]
  },
  {
   "cell_type": "markdown",
   "metadata": {},
   "source": [
    "#### Gaussian NB"
   ]
  },
  {
   "cell_type": "code",
   "execution_count": 510,
   "metadata": {},
   "outputs": [
    {
     "data": {
      "text/plain": [
       "GaussianNB(priors=None)"
      ]
     },
     "execution_count": 510,
     "metadata": {},
     "output_type": "execute_result"
    }
   ],
   "source": [
    "Gaussian_NB = GaussianNB()\n",
    "Gaussian_NB.fit(X_train, Y_train)"
   ]
  },
  {
   "cell_type": "code",
   "execution_count": 511,
   "metadata": {
    "collapsed": true
   },
   "outputs": [],
   "source": [
    "Y_test_hat = Gaussian_NB.predict(X_test)"
   ]
  },
  {
   "cell_type": "markdown",
   "metadata": {},
   "source": [
    "#### Accuracy Score"
   ]
  },
  {
   "cell_type": "code",
   "execution_count": 512,
   "metadata": {},
   "outputs": [
    {
     "data": {
      "text/plain": [
       "77.272727272727266"
      ]
     },
     "execution_count": 512,
     "metadata": {},
     "output_type": "execute_result"
    }
   ],
   "source": [
    "accuracy_score(Y_test, Y_test_hat)*100"
   ]
  }
 ],
 "metadata": {
  "kernelspec": {
   "display_name": "Python 2",
   "language": "python",
   "name": "python2"
  },
  "language_info": {
   "codemirror_mode": {
    "name": "ipython",
    "version": 2
   },
   "file_extension": ".py",
   "mimetype": "text/x-python",
   "name": "python",
   "nbconvert_exporter": "python",
   "pygments_lexer": "ipython2",
   "version": "2.7.13"
  }
 },
 "nbformat": 4,
 "nbformat_minor": 2
}
